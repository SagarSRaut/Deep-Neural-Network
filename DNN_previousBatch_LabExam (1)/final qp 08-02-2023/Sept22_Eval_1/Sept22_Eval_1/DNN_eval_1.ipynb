{
 "cells": [
  {
   "cell_type": "code",
   "execution_count": 1,
   "id": "db7a56bd",
   "metadata": {},
   "outputs": [],
   "source": [
    "#!/usr/bin/env python3\n",
    "# -*- coding: utf-8 -*-"
   ]
  },
  {
   "cell_type": "markdown",
   "id": "e0d6f09d",
   "metadata": {},
   "source": [
    "**PRN**:                  ______________________________<br>\n",
    "**Name of Student**:      ______________________________<br>\n",
    "**Date of Submission**:   ______________________________<br>"
   ]
  },
  {
   "cell_type": "markdown",
   "id": "4be194ce",
   "metadata": {},
   "source": [
    "# Deep Neural Networks\n",
    "## PG-DAI September  2022\n",
    "\n",
    "\n",
    "# Evaluation 1\n"
   ]
  },
  {
   "cell_type": "markdown",
   "id": "2688bdb6",
   "metadata": {},
   "source": [
    "## Instruction:\n",
    "<div class=\"alert alert-block alert-warning\" style=\"font-family: Arial; font-size:1.2em;\">   \n",
    "   <b>Follow these instructions carefully.</b>\n",
    "       <li>Your code shall be free of any compilation error. If your code fails in compilation, your submission will be <b><i>rejected</i></b>.</li>\n",
    "       <li>Put comments to explain your code. Explain your steps in details.</li>\n",
    "       <li>Do not <b>REMOVE</b> any cell.If you delete any cell, your submission may become invalid.</li>\n",
    "       <li>Your code shall be within the lines marked for the purpose.</li>\n",
    "       <li>Upload the file to the designated location by renaming as <strong>PRN_{PRN # last 3 digits}_DNN_Eval_Assignment_1.ipynb</strong></li>\n",
    "    </ol>\n",
    "    <b>Important:</b>Your code shall be between lines marked thus. \n",
    "</div>\n",
    "\n",
    ">`#### START YOUR CODE`\n",
    "> Feel free to add cell\n",
    "\n",
    ">`#### END YOUR CODE`"
   ]
  },
  {
   "cell_type": "markdown",
   "id": "ba734aa2",
   "metadata": {},
   "source": [
    "## 1. Import Statements\n",
    "**Task 1:** Import all the libraries you may need for successful execution of your code.**(2 marks)**"
   ]
  },
  {
   "cell_type": "code",
   "execution_count": 2,
   "id": "401ca3fd",
   "metadata": {},
   "outputs": [],
   "source": [
    "#### START YOUR CODE\n",
    "\n",
    "\n",
    "#### END YOUR CODE"
   ]
  },
  {
   "cell_type": "markdown",
   "id": "bdd65a4f",
   "metadata": {},
   "source": [
    "## 2. Hyper-Parameters and others\n",
    "\n",
    "**Task 2:** Declare Hyper-Parameters.**(3 marks)**\n",
    "\n",
    "**Note:** Declaration of Hyper-Parameters else where should be avoided. "
   ]
  },
  {
   "cell_type": "code",
   "execution_count": 3,
   "id": "c6280012",
   "metadata": {},
   "outputs": [],
   "source": [
    "#### START YOUR CODE\n",
    "\n",
    "\n",
    "#### END YOUR CODE"
   ]
  },
  {
   "cell_type": "markdown",
   "id": "5e45e6de",
   "metadata": {},
   "source": [
    "## Helper Function\n",
    "Following helper function is given for your convenience. Feel free to modify as deemed fit."
   ]
  },
  {
   "cell_type": "code",
   "execution_count": 12,
   "id": "f3c60adc",
   "metadata": {},
   "outputs": [],
   "source": [
    "def fn_plot_hist(hist_df):\n",
    "    \n",
    "    # Instantiate plt object with 1 row two columns\n",
    "    fig, axes = plt.subplots(1,2 , figsize = (15,6)) \n",
    "\n",
    "    # Propertiesfor matplotlib.patch.Patch \n",
    "    props = dict(boxstyle='round', \n",
    "                 facecolor='aqua', \n",
    "                 alpha=0.4)\n",
    "\n",
    "    ax = axes[0]\n",
    "\n",
    "    # plot loss columns of the dataframe\n",
    "    hist_df.plot(y = ['loss','val_loss'], ax = ax, colormap=CMAP)\n",
    "\n",
    "    # Mark min loss and min val_loss\n",
    "    lossmin = hist_df['loss'].min()\n",
    "    testmin = hist_df['val_loss'].min()\n",
    "\n",
    "    # Little beautification\n",
    "    txtstr = \"Min Loss: \\n Training : {:7.4f}\\n Testing   : {:7.4f}\".format(lossmin,\n",
    "                                                                            testmin) #text to plot\n",
    "\n",
    "    # Place a text box in upper left in axis coords\n",
    "    ax.text(0.4, 0.95, txtstr, transform=ax.transAxes, fontsize=14,\n",
    "            verticalalignment='top', bbox=props)\n",
    "\n",
    "    # set labels on the axes\n",
    "    ax.set_xlabel(\"Epochs\")\n",
    "\n",
    "    ax.set_ylabel(\"Loss\")\n",
    "\n",
    "    # show grid\n",
    "    ax.grid();\n",
    "\n",
    "    # for second figure\n",
    "    ax = axes[1]\n",
    "\n",
    "    # plot accuracy and val_accuracy\n",
    "    hist_df.plot( y = ['accuracy', 'val_accuracy'], ax = ax, colormap=CMAP)\n",
    "    \n",
    "\n",
    "    # get max accuracies\n",
    "    accmax = hist_df['accuracy'].max()\n",
    "    testmax = hist_df['val_accuracy'].max()\n",
    "    \n",
    "    # Little beautification\n",
    "    txtstr = \"Max Accuracy: \\n Training : {:7.4f}\\n Testing   : {:7.4f}\".format(accmax,\n",
    "                                                                                testmax) #text to plot\n",
    "\n",
    "    # place a text box in upper left in axis coords\n",
    "    ax.text(0.4, 0.5, txtstr, transform=ax.transAxes, fontsize=14,\n",
    "            verticalalignment='top', bbox=props)\n",
    "\n",
    "    # Mark labels\n",
    "    ax.set_xlabel(\"Epochs\")\n",
    "    ax.set_ylabel(\"Accuracy\")\n",
    "    \n",
    "    # Show grid\n",
    "    ax.grid();\n",
    "    \n",
    "    # Organise subplot params so that the subplots fit in to the figure area\n",
    "    plt.tight_layout()"
   ]
  },
  {
   "cell_type": "markdown",
   "id": "1d00347f",
   "metadata": {},
   "source": [
    "## Dataset Information:\n",
    "\n",
    "### Reference\n",
    "[Wine DataSet](https://archive.ics.uci.edu/ml/datasets/wine)\n",
    "\n",
    "These data are the results of a chemical analysis of wines grown in the same region in Italy but derived from three different cultivars. The analysis determined the quantities of 13 constituents found in each of the three types of wines.\n",
    "\n",
    "I think that the initial data set had around 30 variables, but for some reason I only have the 13 dimensional version. I had a list of what the 30 or so variables were, but a.) I lost it, and b.), I would not know which 13 variables are included in the set.\n",
    "\n",
    "The attributes are (donated by Riccardo Leardi, riclea '@' anchem.unige.it )\n",
    "1. Alcohol\n",
    "2. Malic acid\n",
    "3. Ash\n",
    "4. Alcalinity of ash\n",
    "5. Magnesium\n",
    "6. Total phenols\n",
    "7. Flavanoids\n",
    "8. Nonflavanoid phenols\n",
    "9. Proanthocyanins\n",
    "10. Color intensity\n",
    "11. Hue\n",
    "12. OD280/OD315 of diluted wines\n",
    "13. Proline\n",
    "\n",
    "\n",
    "### Attribute Information:\n",
    "\n",
    "All attributes are continuous\n",
    "\n",
    "**NOTE:** 1st attribute is class identifier (1-3)"
   ]
  },
  {
   "cell_type": "markdown",
   "id": "c27362f8",
   "metadata": {},
   "source": [
    "## Load Data\n",
    "**Task 3:** Load data provided in `wines.data` with appropriate column names. **(5 marks)**\n",
    "\n",
    "**Note:** \n",
    "1. Use of any **other** dataset will make this submission **invalid**.\n",
    "2. The information provided in this Notebook is sufficient to enter column names.\n",
    "3. You may also use `wine.names` file for column names"
   ]
  },
  {
   "cell_type": "code",
   "execution_count": 13,
   "id": "b4b2416f",
   "metadata": {},
   "outputs": [],
   "source": [
    "#### START YOUR CODE\n",
    "\n",
    "\n",
    "#### END YOUR CODE"
   ]
  },
  {
   "cell_type": "markdown",
   "id": "64fcc7f2",
   "metadata": {},
   "source": [
    "## Train and Test Sets\n",
    "**Task 4**: Prepare train and test sets from the data, namely - X_test, X_train,  y_train, y_test **(5 marks)**"
   ]
  },
  {
   "cell_type": "code",
   "execution_count": 15,
   "id": "3fa32b4e",
   "metadata": {},
   "outputs": [],
   "source": [
    "#### START YOUR CODE\n",
    "\n",
    "\n",
    "#### END YOUR CODE"
   ]
  },
  {
   "cell_type": "markdown",
   "id": "567dc77f",
   "metadata": {},
   "source": [
    "## Declare your model\n",
    "\n",
    "**Task 5:**\n",
    "1. Specify kernel initializer.\n",
    "2. Prepare model using Sequential class of TensorFlow with one Hidden Layer and one output layer\n",
    "\n",
    "$\n",
    "\\begin{align}\n",
    "Marks = \\left\\{\n",
    "\\begin{array}{cl}\n",
    "\\text{for Specify kernel initializer}&= 2\\\\\n",
    "\\text{for preparing model appropriately}&= 3.\\\\\n",
    "\\end{array}\n",
    "\\right.\n",
    "\\end{align}\n",
    "$"
   ]
  },
  {
   "cell_type": "code",
   "execution_count": 16,
   "id": "5e89fff4",
   "metadata": {},
   "outputs": [],
   "source": [
    "#### START YOUR CODE\n",
    "\n",
    "\n",
    "#### END YOUR CODE"
   ]
  },
  {
   "cell_type": "markdown",
   "id": "0512c402",
   "metadata": {},
   "source": [
    "## Compile and Fit your model\n",
    "\n",
    "**Task 6:**\n",
    "1. Plot loss and accuracy curves for both testing and training. **(5 marks)**"
   ]
  },
  {
   "cell_type": "code",
   "execution_count": 17,
   "id": "94e7878c",
   "metadata": {},
   "outputs": [],
   "source": [
    "#### START YOUR CODE\n",
    "\n",
    "\n",
    "#### END YOUR CODE"
   ]
  },
  {
   "cell_type": "markdown",
   "id": "2c671e12",
   "metadata": {},
   "source": [
    "## Summary of analysis\n",
    "\n",
    "**Task 7:** \n",
    "1. Comment on loss curve. Is data provided  sufficient to train the model? Comment from the perspective of under-fitting/over-fitting.**(5 marks)**\n",
    "2. Have you used any data transformation such as Scaler etc.? Please Explain. **(5 marks)**"
   ]
  },
  {
   "cell_type": "code",
   "execution_count": 18,
   "id": "e47c753e",
   "metadata": {},
   "outputs": [],
   "source": [
    "#Explanation Task 7.1"
   ]
  },
  {
   "cell_type": "code",
   "execution_count": 1,
   "id": "72f9a58a",
   "metadata": {},
   "outputs": [],
   "source": [
    "#Explanation Task 7.2"
   ]
  },
  {
   "cell_type": "markdown",
   "id": "ec51c9fd",
   "metadata": {},
   "source": [
    "## Reinforcement Learning\n",
    "\n",
    "**Task 8:** \n",
    "1. Explain difference between Bellman Expectation Equation and Bellman Optimization Equation.**(5 marks)**"
   ]
  },
  {
   "cell_type": "code",
   "execution_count": null,
   "id": "e9b43c31",
   "metadata": {},
   "outputs": [],
   "source": [
    "#Explanation Task 8"
   ]
  }
 ],
 "metadata": {
  "kernelspec": {
   "display_name": "Python 3 (ipykernel)",
   "language": "python",
   "name": "python3"
  },
  "language_info": {
   "codemirror_mode": {
    "name": "ipython",
    "version": 3
   },
   "file_extension": ".py",
   "mimetype": "text/x-python",
   "name": "python",
   "nbconvert_exporter": "python",
   "pygments_lexer": "ipython3",
   "version": "3.10.6"
  }
 },
 "nbformat": 4,
 "nbformat_minor": 5
}
